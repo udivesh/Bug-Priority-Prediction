{
 "cells": [
  {
   "cell_type": "code",
   "execution_count": 1,
   "metadata": {
    "colab": {
     "base_uri": "https://localhost:8080/"
    },
    "executionInfo": {
     "elapsed": 9360,
     "status": "ok",
     "timestamp": 1651716031837,
     "user": {
      "displayName": "Divesh Upreti",
      "userId": "04263320102199524072"
     },
     "user_tz": 240
    },
    "id": "Hdn_qy4CuoMh",
    "outputId": "2cf9b301-c13b-4d3d-a3de-bbda99b95a1d"
   },
   "outputs": [
    {
     "name": "stdout",
     "output_type": "stream",
     "text": [
      "Requirement already satisfied: transformers in /home/topsykreet/anaconda3/envs/study/lib/python3.8/site-packages (4.18.0)\n",
      "Requirement already satisfied: regex!=2019.12.17 in /home/topsykreet/anaconda3/envs/study/lib/python3.8/site-packages (from transformers) (2021.11.2)\n",
      "Requirement already satisfied: numpy>=1.17 in /home/topsykreet/anaconda3/envs/study/lib/python3.8/site-packages (from transformers) (1.21.2)\n",
      "Requirement already satisfied: tqdm>=4.27 in /home/topsykreet/anaconda3/envs/study/lib/python3.8/site-packages (from transformers) (4.62.3)\n",
      "Requirement already satisfied: filelock in /home/topsykreet/anaconda3/envs/study/lib/python3.8/site-packages (from transformers) (3.6.0)\n",
      "Requirement already satisfied: sacremoses in /home/topsykreet/anaconda3/envs/study/lib/python3.8/site-packages (from transformers) (0.0.53)\n",
      "Requirement already satisfied: requests in /home/topsykreet/anaconda3/envs/study/lib/python3.8/site-packages (from transformers) (2.27.1)\n",
      "Requirement already satisfied: tokenizers!=0.11.3,<0.13,>=0.11.1 in /home/topsykreet/anaconda3/envs/study/lib/python3.8/site-packages (from transformers) (0.12.1)\n",
      "Requirement already satisfied: huggingface-hub<1.0,>=0.1.0 in /home/topsykreet/anaconda3/envs/study/lib/python3.8/site-packages (from transformers) (0.5.1)\n",
      "Requirement already satisfied: pyyaml>=5.1 in /home/topsykreet/anaconda3/envs/study/lib/python3.8/site-packages (from transformers) (6.0)\n",
      "Requirement already satisfied: packaging>=20.0 in /home/topsykreet/anaconda3/envs/study/lib/python3.8/site-packages (from transformers) (21.3)\n",
      "Requirement already satisfied: typing-extensions>=3.7.4.3 in /home/topsykreet/.local/lib/python3.8/site-packages (from huggingface-hub<1.0,>=0.1.0->transformers) (4.0.1)\n",
      "Requirement already satisfied: pyparsing!=3.0.5,>=2.0.2 in /home/topsykreet/anaconda3/envs/study/lib/python3.8/site-packages (from packaging>=20.0->transformers) (3.0.4)\n",
      "Requirement already satisfied: urllib3<1.27,>=1.21.1 in /home/topsykreet/anaconda3/envs/study/lib/python3.8/site-packages (from requests->transformers) (1.26.9)\n",
      "Requirement already satisfied: charset-normalizer~=2.0.0 in /home/topsykreet/anaconda3/envs/study/lib/python3.8/site-packages (from requests->transformers) (2.0.12)\n",
      "Requirement already satisfied: certifi>=2017.4.17 in /home/topsykreet/anaconda3/envs/study/lib/python3.8/site-packages (from requests->transformers) (2021.10.8)\n",
      "Requirement already satisfied: idna<4,>=2.5 in /home/topsykreet/anaconda3/envs/study/lib/python3.8/site-packages (from requests->transformers) (3.3)\n",
      "Requirement already satisfied: six in /home/topsykreet/anaconda3/envs/study/lib/python3.8/site-packages (from sacremoses->transformers) (1.16.0)\n",
      "Requirement already satisfied: click in /home/topsykreet/anaconda3/envs/study/lib/python3.8/site-packages (from sacremoses->transformers) (8.0.3)\n",
      "Requirement already satisfied: joblib in /home/topsykreet/anaconda3/envs/study/lib/python3.8/site-packages (from sacremoses->transformers) (0.17.0)\n"
     ]
    }
   ],
   "source": [
    "!pip install transformers"
   ]
  },
  {
   "cell_type": "code",
   "execution_count": 2,
   "metadata": {
    "executionInfo": {
     "elapsed": 987,
     "status": "ok",
     "timestamp": 1651722432680,
     "user": {
      "displayName": "Divesh Upreti",
      "userId": "04263320102199524072"
     },
     "user_tz": 240
    },
    "id": "_IamY_DeucWJ"
   },
   "outputs": [],
   "source": [
    "import numpy as np\n",
    "import pandas as pd\n",
    "import sklearn\n",
    "from sklearn.model_selection import train_test_split\n",
    "from transformers import pipeline\n",
    "from transformers import GPT2Tokenizer, GPT2ForSequenceClassification\n",
    "import torch\n",
    "from torch.nn import BCEWithLogitsLoss, BCELoss\n",
    "from sklearn.preprocessing import OneHotEncoder\n",
    "from sklearn.metrics import classification_report, confusion_matrix, multilabel_confusion_matrix, f1_score, accuracy_score\n",
    "from torch.nn.utils.rnn import pad_sequence\n",
    "\n"
   ]
  },
  {
   "cell_type": "code",
   "execution_count": 3,
   "metadata": {
    "colab": {
     "base_uri": "https://localhost:8080/"
    },
    "executionInfo": {
     "elapsed": 4,
     "status": "ok",
     "timestamp": 1651722434389,
     "user": {
      "displayName": "Divesh Upreti",
      "userId": "04263320102199524072"
     },
     "user_tz": 240
    },
    "id": "VIaNVSZ24Kr5",
    "outputId": "202234f9-eee0-4c5d-f803-b425ea1780de"
   },
   "outputs": [
    {
     "name": "stdout",
     "output_type": "stream",
     "text": [
      "cuda:0\n"
     ]
    }
   ],
   "source": [
    "device = torch.device(\"cuda:0\" if torch.cuda.is_available() else \"cpu\")\n",
    "print(device)"
   ]
  },
  {
   "cell_type": "code",
   "execution_count": 4,
   "metadata": {
    "executionInfo": {
     "elapsed": 4,
     "status": "ok",
     "timestamp": 1651722436210,
     "user": {
      "displayName": "Divesh Upreti",
      "userId": "04263320102199524072"
     },
     "user_tz": 240
    },
    "id": "oMid_UrsujoW"
   },
   "outputs": [],
   "source": [
    "data = pd.read_csv(\"eclipse_bug_report_data.csv\")\n",
    "data = data.dropna()\n",
    "two_rows = data[['long_description', 'severity_category']].copy()\n",
    "two_rows.head()\n",
    "comments = list(two_rows.long_description.values)\n",
    "labels = list(two_rows.severity_category.values)"
   ]
  },
  {
   "cell_type": "code",
   "execution_count": 5,
   "metadata": {
    "executionInfo": {
     "elapsed": 4,
     "status": "ok",
     "timestamp": 1651722436211,
     "user": {
      "displayName": "Divesh Upreti",
      "userId": "04263320102199524072"
     },
     "user_tz": 240
    },
    "id": "J3UPYlazu44D"
   },
   "outputs": [],
   "source": [
    "encoder = OneHotEncoder(sparse=False)\n",
    "# transform data\n",
    "labels = encoder.fit_transform(np.array(labels).reshape(-1,1))"
   ]
  },
  {
   "cell_type": "code",
   "execution_count": 6,
   "metadata": {
    "colab": {
     "base_uri": "https://localhost:8080/"
    },
    "executionInfo": {
     "elapsed": 10266,
     "status": "ok",
     "timestamp": 1651722446474,
     "user": {
      "displayName": "Divesh Upreti",
      "userId": "04263320102199524072"
     },
     "user_tz": 240
    },
    "id": "IQQKksZsu5k7",
    "outputId": "554f040b-b933-440a-af25-7f95add2b553"
   },
   "outputs": [
    {
     "data": {
      "application/vnd.jupyter.widget-view+json": {
       "model_id": "f0071f160ae7486fb73c3202f00fa254",
       "version_major": 2,
       "version_minor": 0
      },
      "text/plain": [
       "Downloading:   0%|          | 0.00/0.99M [00:00<?, ?B/s]"
      ]
     },
     "metadata": {},
     "output_type": "display_data"
    },
    {
     "data": {
      "application/vnd.jupyter.widget-view+json": {
       "model_id": "80f08941fd8d4f3da96b0682e496e89d",
       "version_major": 2,
       "version_minor": 0
      },
      "text/plain": [
       "Downloading:   0%|          | 0.00/446k [00:00<?, ?B/s]"
      ]
     },
     "metadata": {},
     "output_type": "display_data"
    },
    {
     "data": {
      "application/vnd.jupyter.widget-view+json": {
       "model_id": "0c2d35126486421db03e8a3326829ca0",
       "version_major": 2,
       "version_minor": 0
      },
      "text/plain": [
       "Downloading:   0%|          | 0.00/665 [00:00<?, ?B/s]"
      ]
     },
     "metadata": {},
     "output_type": "display_data"
    },
    {
     "data": {
      "application/vnd.jupyter.widget-view+json": {
       "model_id": "673c8a33cdf5452caa607c3596981be1",
       "version_major": 2,
       "version_minor": 0
      },
      "text/plain": [
       "Downloading:   0%|          | 0.00/523M [00:00<?, ?B/s]"
      ]
     },
     "metadata": {},
     "output_type": "display_data"
    },
    {
     "name": "stderr",
     "output_type": "stream",
     "text": [
      "Some weights of GPT2ForSequenceClassification were not initialized from the model checkpoint at gpt2 and are newly initialized: ['score.weight']\n",
      "You should probably TRAIN this model on a down-stream task to be able to use it for predictions and inference.\n"
     ]
    }
   ],
   "source": [
    "tokenizer = GPT2Tokenizer.from_pretrained(\"gpt2\")\n",
    "model = GPT2ForSequenceClassification.from_pretrained(\"gpt2\", problem_type=\"multi_label_classification\", num_labels=6)"
   ]
  },
  {
   "cell_type": "code",
   "execution_count": 7,
   "metadata": {
    "executionInfo": {
     "elapsed": 315,
     "status": "ok",
     "timestamp": 1651722446784,
     "user": {
      "displayName": "Divesh Upreti",
      "userId": "04263320102199524072"
     },
     "user_tz": 240
    },
    "id": "9AMQ-1sw4cVc"
   },
   "outputs": [],
   "source": [
    "model = model.to(device)"
   ]
  },
  {
   "cell_type": "code",
   "execution_count": 8,
   "metadata": {
    "colab": {
     "base_uri": "https://localhost:8080/"
    },
    "executionInfo": {
     "elapsed": 39635,
     "status": "ok",
     "timestamp": 1651722486417,
     "user": {
      "displayName": "Divesh Upreti",
      "userId": "04263320102199524072"
     },
     "user_tz": 240
    },
    "id": "jvcYEqPtu7I8",
    "outputId": "31465890-1291-4bc7-a9e8-2eec30b70dd1"
   },
   "outputs": [
    {
     "name": "stderr",
     "output_type": "stream",
     "text": [
      "Token indices sequence length is longer than the specified maximum sequence length for this model (4414 > 1024). Running this sequence through the model will result in indexing errors\n",
      "/tmp/ipykernel_10896/4176998694.py:8: FutureWarning: The input object of type 'Tensor' is an array-like implementing one of the corresponding protocols (`__array__`, `__array_interface__` or `__array_struct__`); but not a sequence (or 0-D). In the future, this object will be coerced as if it was first converted using `np.array(obj)`. To retain the old behaviour, you have to either modify the type 'Tensor', or assign to an empty array created with `np.empty(correct_shape, dtype=object)`.\n",
      "  tokenized_comments = np.array(tokenized_comments_temp)\n",
      "/tmp/ipykernel_10896/4176998694.py:8: VisibleDeprecationWarning: Creating an ndarray from ragged nested sequences (which is a list-or-tuple of lists-or-tuples-or ndarrays with different lengths or shapes) is deprecated. If you meant to do this, you must specify 'dtype=object' when creating the ndarray.\n",
      "  tokenized_comments = np.array(tokenized_comments_temp)\n"
     ]
    }
   ],
   "source": [
    "tokenized_comments_temp = []\n",
    "labels_temp = []\n",
    "for i, x in enumerate(comments):\n",
    "    encoded = tokenizer(x, return_tensors='pt')['input_ids']\n",
    "    if encoded.shape[1] < 1000:\n",
    "        tokenized_comments_temp.append(encoded)\n",
    "        labels_temp.append(labels[i])\n",
    "tokenized_comments = np.array(tokenized_comments_temp)\n",
    "labels = np.array(labels_temp)\n"
   ]
  },
  {
   "cell_type": "code",
   "execution_count": 9,
   "metadata": {
    "executionInfo": {
     "elapsed": 308,
     "status": "ok",
     "timestamp": 1651727523444,
     "user": {
      "displayName": "Divesh Upreti",
      "userId": "04263320102199524072"
     },
     "user_tz": 240
    },
    "id": "a8KLS2wyvfvx"
   },
   "outputs": [],
   "source": [
    "train_x, test_x, train_y, test_y = train_test_split(tokenized_comments_temp, labels, test_size=0.1, random_state=22)\n",
    "test_y = torch.tensor(test_y)\n",
    "train_y = torch.tensor(train_y)"
   ]
  },
  {
   "cell_type": "code",
   "execution_count": 10,
   "metadata": {
    "executionInfo": {
     "elapsed": 2,
     "status": "ok",
     "timestamp": 1651727324273,
     "user": {
      "displayName": "Divesh Upreti",
      "userId": "04263320102199524072"
     },
     "user_tz": 240
    },
    "id": "l8KtFGJZv5-b"
   },
   "outputs": [],
   "source": [
    "test_y = test_y.to(device)\n",
    "train_y = train_y.to(device)"
   ]
  },
  {
   "cell_type": "code",
   "execution_count": 11,
   "metadata": {
    "colab": {
     "base_uri": "https://localhost:8080/"
    },
    "executionInfo": {
     "elapsed": 3,
     "status": "ok",
     "timestamp": 1651727325455,
     "user": {
      "displayName": "Divesh Upreti",
      "userId": "04263320102199524072"
     },
     "user_tz": 240
    },
    "id": "Gy16_0E5W6zg",
    "outputId": "ed29956b-edc5-4ef1-8501-168a2b70b97b"
   },
   "outputs": [
    {
     "data": {
      "text/plain": [
       "tensor([0., 0., 0., 0., 1., 0.], device='cuda:0', dtype=torch.float64)"
      ]
     },
     "execution_count": 11,
     "metadata": {},
     "output_type": "execute_result"
    }
   ],
   "source": [
    "test_y[0]"
   ]
  },
  {
   "cell_type": "code",
   "execution_count": 12,
   "metadata": {
    "executionInfo": {
     "elapsed": 391,
     "status": "ok",
     "timestamp": 1651727326828,
     "user": {
      "displayName": "Divesh Upreti",
      "userId": "04263320102199524072"
     },
     "user_tz": 240
    },
    "id": "0Gh5qgOVvsME"
   },
   "outputs": [],
   "source": [
    "# setting custom optimization parameters. You may implement a scheduler here as well.\n",
    "param_optimizer = list(model.named_parameters())\n",
    "no_decay = ['bias', 'gamma', 'beta']\n",
    "optimizer_grouped_parameters = [\n",
    "    {'params': [p for n, p in param_optimizer if not any(nd in n for nd in no_decay)],\n",
    "     'weight_decay_rate': 0.01},\n",
    "    {'params': [p for n, p in param_optimizer if any(nd in n for nd in no_decay)],\n",
    "     'weight_decay_rate': 0.0}\n",
    "]"
   ]
  },
  {
   "cell_type": "code",
   "execution_count": 13,
   "metadata": {
    "executionInfo": {
     "elapsed": 2,
     "status": "ok",
     "timestamp": 1651727327961,
     "user": {
      "displayName": "Divesh Upreti",
      "userId": "04263320102199524072"
     },
     "user_tz": 240
    },
    "id": "WuasdJ2vvtnD"
   },
   "outputs": [],
   "source": [
    "optimizer = torch.optim.AdamW(optimizer_grouped_parameters,lr=2e-5)"
   ]
  },
  {
   "cell_type": "code",
   "execution_count": 14,
   "metadata": {
    "executionInfo": {
     "elapsed": 2,
     "status": "ok",
     "timestamp": 1651727327961,
     "user": {
      "displayName": "Divesh Upreti",
      "userId": "04263320102199524072"
     },
     "user_tz": 240
    },
    "id": "3nMC5eYIvvJQ"
   },
   "outputs": [],
   "source": [
    "num_labels=6\n"
   ]
  },
  {
   "cell_type": "code",
   "execution_count": 16,
   "metadata": {
    "colab": {
     "base_uri": "https://localhost:8080/"
    },
    "executionInfo": {
     "elapsed": 18687,
     "status": "ok",
     "timestamp": 1651727380540,
     "user": {
      "displayName": "Divesh Upreti",
      "userId": "04263320102199524072"
     },
     "user_tz": 240
    },
    "id": "kQWUAdEtvxWh",
    "outputId": "212a6f14-3437-4c8f-f615-2071e6468a6a"
   },
   "outputs": [
    {
     "name": "stdout",
     "output_type": "stream",
     "text": [
      "Train loss: 0.22302209290673863\n"
     ]
    },
    {
     "name": "stderr",
     "output_type": "stream",
     "text": [
      "/home/topsykreet/anaconda3/envs/study/lib/python3.8/site-packages/sklearn/metrics/_classification.py:1318: UndefinedMetricWarning: Precision and F-score are ill-defined and being set to 0.0 in labels with no predicted samples. Use `zero_division` parameter to control this behavior.\n",
      "  _warn_prf(average, modifier, msg_start, len(result))\n"
     ]
    },
    {
     "name": "stdout",
     "output_type": "stream",
     "text": [
      "Train loss: 0.2110807224026213\n"
     ]
    },
    {
     "name": "stderr",
     "output_type": "stream",
     "text": [
      "/home/topsykreet/anaconda3/envs/study/lib/python3.8/site-packages/sklearn/metrics/_classification.py:1318: UndefinedMetricWarning: Precision and F-score are ill-defined and being set to 0.0 in labels with no predicted samples. Use `zero_division` parameter to control this behavior.\n",
      "  _warn_prf(average, modifier, msg_start, len(result))\n"
     ]
    },
    {
     "name": "stdout",
     "output_type": "stream",
     "text": [
      "Train loss: 0.1749935153835563\n"
     ]
    },
    {
     "name": "stderr",
     "output_type": "stream",
     "text": [
      "/home/topsykreet/anaconda3/envs/study/lib/python3.8/site-packages/sklearn/metrics/_classification.py:1318: UndefinedMetricWarning: Precision and F-score are ill-defined and being set to 0.0 in labels with no predicted samples. Use `zero_division` parameter to control this behavior.\n",
      "  _warn_prf(average, modifier, msg_start, len(result))\n"
     ]
    },
    {
     "name": "stdout",
     "output_type": "stream",
     "text": [
      "Train loss: 0.11791655707280761\n",
      "Train loss: 0.0704906864973867\n",
      "Train loss: 0.04664115622893446\n",
      "Train loss: 0.03215968785694683\n",
      "Train loss: 0.025281219289452768\n",
      "Train loss: 0.01805752213502225\n",
      "Train loss: 0.01670685666316454\n",
      "Train loss: 0.01543137244132148\n",
      "Train loss: 0.013477892886057165\n",
      "Train loss: 0.012467140060678021\n",
      "Train loss: 0.01100715667423694\n",
      "Train loss: 0.010641700620171706\n",
      "Train loss: 0.008929608683022712\n",
      "Train loss: 0.009320284151917333\n",
      "Train loss: 0.008775985699539052\n",
      "Train loss: 0.008132969001299162\n",
      "Train loss: 0.00723331716629985\n",
      "Train loss: 0.00724500090606248\n",
      "Train loss: 0.005855904349175587\n",
      "Train loss: 0.00852729523762161\n",
      "Train loss: 0.006496218024724115\n",
      "Train loss: 0.007656469670583249\n",
      "Train loss: 0.006877227649096827\n",
      "Train loss: 0.006712790246518347\n",
      "Train loss: 0.006132971823881704\n",
      "Train loss: 0.0049812288261702085\n",
      "Train loss: 0.006676871910728372\n",
      "Train loss: 0.00574372955232684\n",
      "Train loss: 0.007151418712238902\n",
      "Train loss: 0.0038626880895116598\n",
      "Train loss: 0.005048871563529139\n",
      "Train loss: 0.004346039605564299\n",
      "Train loss: 0.004733924288298656\n",
      "Train loss: 0.004200043532135233\n",
      "Train loss: 0.004731697508275943\n",
      "Train loss: 0.004148006478586019\n",
      "Train loss: 0.0043750300465814984\n",
      "Train loss: 0.0039393651070791826\n",
      "Train loss: 0.0047739700051679865\n",
      "Train loss: 0.004267459357993721\n",
      "Train loss: 0.005832670610940045\n",
      "Train loss: 0.004080107058917628\n",
      "Train loss: 0.0033738217624799914\n",
      "Train loss: 0.0034682401843794575\n",
      "Train loss: 0.003595505314255172\n",
      "Train loss: 0.0045137339307500315\n",
      "Train loss: 0.004259383656814539\n"
     ]
    }
   ],
   "source": [
    "# Store our loss and accuracy for plotting\n",
    "train_loss_set = []\n",
    "val_f1_accuracy = []\n",
    "classification_reports = []\n",
    "\n",
    "# Number of training epochs (authors recommend between 2 and 4)\n",
    "epochs = 50\n",
    "\n",
    "# trange is a tqdm wrapper around the normal python range\n",
    "for _ in range(epochs):\n",
    "\n",
    "  # Training\n",
    "  \n",
    "  # Set our model to training mode (as opposed to evaluation mode)\n",
    "  model.train()\n",
    "\n",
    "  # Tracking variables\n",
    "  tr_loss = 0 #running loss\n",
    "  nb_tr_examples, nb_tr_steps = 0, 0\n",
    "  \n",
    "  # Train the data for one epoch\n",
    "  for step, x in enumerate(train_x):\n",
    "        \n",
    "    # Clear out the gradients (by default they accumulate)\n",
    "    x = x.to(device)\n",
    "    optimizer.zero_grad()\n",
    "\n",
    "#######################\n",
    "    # set the pad token of the model's configuration\n",
    "    model.config.pad_token_id = model.config.eos_token_id\n",
    "\n",
    "#######################\n",
    "\n",
    "    # Forward pass for multilabel classification\n",
    "    outputs = model(x, token_type_ids=None)\n",
    "    logits = outputs[0]\n",
    "    loss_func = BCEWithLogitsLoss()\n",
    "    loss = loss_func(logits.view(-1,num_labels),train_y[step].type_as(logits).view(-1,num_labels)) #convert labels to float for calculation\n",
    "    # loss_func = BCELoss() \n",
    "    # loss = loss_func(torch.sigmoid(logits.view(-1,num_labels)),b_labels.type_as(logits).view(-1,num_labels)) #convert labels to float for calculation\n",
    "    train_loss_set.append(loss.item())    \n",
    "\n",
    "    # Backward pass\n",
    "    loss.backward()\n",
    "    # Update parameters and take a step using the computed gradient\n",
    "    optimizer.step()\n",
    "    # scheduler.step()\n",
    "    # Update tracking variables\n",
    "    tr_loss += loss.item()\n",
    "    nb_tr_examples += train_y[step].size(0)\n",
    "    nb_tr_steps += 1\n",
    "\n",
    "  print(\"Train loss: {}\".format(tr_loss/nb_tr_steps))\n",
    "\n",
    "###############################################################################\n",
    "  # Validation\n",
    "\n",
    "  # Put model in evaluation mode to evaluate loss on the validation set\n",
    "  model.eval()\n",
    "\n",
    "  # Variables to gather full output\n",
    "  logit_preds,true_labels,pred_labels,tokenized_texts = [],[],[],[]\n",
    "\n",
    "  # Predict\n",
    "  for i, x in enumerate(test_x):\n",
    "    x = x.to(device)\n",
    "    with torch.no_grad():\n",
    "      # Forward pass\n",
    "      outs = model(x, token_type_ids=None)\n",
    "      b_logit_pred = outs[0]\n",
    "      pred_label = torch.sigmoid(b_logit_pred)\n",
    "\n",
    "      b_logit_pred = b_logit_pred.cpu().numpy()\n",
    "      pred_label = pred_label.cpu().numpy()\n",
    "      b_labels = test_y[i].cpu().numpy()\n",
    "\n",
    "    tokenized_texts.append(x)\n",
    "    logit_preds.append(b_logit_pred)\n",
    "    true_labels.append(test_y[i])\n",
    "    pred_labels.append(pred_label)\n",
    "  pred_labels_new = [item for sublist in pred_labels for item in sublist]\n",
    "  max_idx = np.argmax(pred_labels_new, 1)\n",
    "  pred_label = np.zeros_like(pred_labels_new)\n",
    "  pred_label[np.arange(len(max_idx)), max_idx] = 1\n",
    "  true_label = []\n",
    "  for each in true_labels:\n",
    "    true_label.append(each.cpu().numpy())\n",
    "  val_f1_accuracy.append(f1_score(true_label,pred_label,average=None)*100)\n",
    "  classification_reports.append(classification_report(true_label, pred_label, output_dict=True))\n",
    "\n"
   ]
  },
  {
   "cell_type": "code",
   "execution_count": 17,
   "metadata": {
    "colab": {
     "base_uri": "https://localhost:8080/"
    },
    "executionInfo": {
     "elapsed": 373,
     "status": "ok",
     "timestamp": 1651727387660,
     "user": {
      "displayName": "Divesh Upreti",
      "userId": "04263320102199524072"
     },
     "user_tz": 240
    },
    "id": "ircNjbpzh9q-",
    "outputId": "f97b525f-294b-42e3-91fe-94aaf3c9af97"
   },
   "outputs": [
    {
     "data": {
      "text/plain": [
       "array([11.76470588,  5.71428571, 14.17322835,  0.        , 86.62337662,\n",
       "        0.        ])"
      ]
     },
     "execution_count": 17,
     "metadata": {},
     "output_type": "execute_result"
    }
   ],
   "source": [
    "val_f1_accuracy[-1]"
   ]
  },
  {
   "cell_type": "code",
   "execution_count": 18,
   "metadata": {
    "colab": {
     "base_uri": "https://localhost:8080/"
    },
    "executionInfo": {
     "elapsed": 314,
     "status": "ok",
     "timestamp": 1651727387972,
     "user": {
      "displayName": "Divesh Upreti",
      "userId": "04263320102199524072"
     },
     "user_tz": 240
    },
    "id": "VIOjdXtejnK2",
    "outputId": "8e47458d-10f2-4e49-f15f-0cd6fe11c7a2"
   },
   "outputs": [
    {
     "data": {
      "text/plain": [
       "{'0': {'precision': 0.3333333333333333,\n",
       "  'recall': 0.07142857142857142,\n",
       "  'f1-score': 0.11764705882352941,\n",
       "  'support': 14},\n",
       " '1': {'precision': 0.09090909090909091,\n",
       "  'recall': 0.041666666666666664,\n",
       "  'f1-score': 0.05714285714285715,\n",
       "  'support': 24},\n",
       " '2': {'precision': 0.2727272727272727,\n",
       "  'recall': 0.09574468085106383,\n",
       "  'f1-score': 0.14173228346456693,\n",
       "  'support': 94},\n",
       " '3': {'precision': 0.0, 'recall': 0.0, 'f1-score': 0.0, 'support': 42},\n",
       " '4': {'precision': 0.804583835946924,\n",
       "  'recall': 0.9381153305203939,\n",
       "  'f1-score': 0.8662337662337662,\n",
       "  'support': 711},\n",
       " '5': {'precision': 0.0, 'recall': 0.0, 'f1-score': 0.0, 'support': 15},\n",
       " 'micro avg': {'precision': 0.7533333333333333,\n",
       "  'recall': 0.7533333333333333,\n",
       "  'f1-score': 0.7533333333333333,\n",
       "  'support': 900},\n",
       " 'macro avg': {'precision': 0.2502589221527702,\n",
       "  'recall': 0.1911592082444493,\n",
       "  'f1-score': 0.19712599427745328,\n",
       "  'support': 900},\n",
       " 'weighted avg': {'precision': 0.671715506492346,\n",
       "  'recall': 0.7533333333333333,\n",
       "  'f1-score': 0.7024816998142612,\n",
       "  'support': 900},\n",
       " 'samples avg': {'precision': 0.7533333333333333,\n",
       "  'recall': 0.7533333333333333,\n",
       "  'f1-score': 0.7533333333333333,\n",
       "  'support': 900}}"
      ]
     },
     "execution_count": 18,
     "metadata": {},
     "output_type": "execute_result"
    }
   ],
   "source": [
    "classification_reports[-1]"
   ]
  },
  {
   "cell_type": "code",
   "execution_count": 19,
   "metadata": {
    "colab": {
     "base_uri": "https://localhost:8080/"
    },
    "executionInfo": {
     "elapsed": 311,
     "status": "ok",
     "timestamp": 1651727392474,
     "user": {
      "displayName": "Divesh Upreti",
      "userId": "04263320102199524072"
     },
     "user_tz": 240
    },
    "id": "EYKHRi32jsW3",
    "outputId": "c25cda71-0ebb-4593-e758-5ce9eb09b5d1"
   },
   "outputs": [
    {
     "name": "stdout",
     "output_type": "stream",
     "text": [
      "{'0': {'precision': 0.3333333333333333, 'recall': 0.07142857142857142, 'f1-score': 0.11764705882352941, 'support': 14}, '1': {'precision': 0.09090909090909091, 'recall': 0.041666666666666664, 'f1-score': 0.05714285714285715, 'support': 24}, '2': {'precision': 0.2727272727272727, 'recall': 0.09574468085106383, 'f1-score': 0.14173228346456693, 'support': 94}, '3': {'precision': 0.0, 'recall': 0.0, 'f1-score': 0.0, 'support': 42}, '4': {'precision': 0.804583835946924, 'recall': 0.9381153305203939, 'f1-score': 0.8662337662337662, 'support': 711}, '5': {'precision': 0.0, 'recall': 0.0, 'f1-score': 0.0, 'support': 15}, 'micro avg': {'precision': 0.7533333333333333, 'recall': 0.7533333333333333, 'f1-score': 0.7533333333333333, 'support': 900}, 'macro avg': {'precision': 0.2502589221527702, 'recall': 0.1911592082444493, 'f1-score': 0.19712599427745328, 'support': 900}, 'weighted avg': {'precision': 0.671715506492346, 'recall': 0.7533333333333333, 'f1-score': 0.7024816998142612, 'support': 900}, 'samples avg': {'precision': 0.7533333333333333, 'recall': 0.7533333333333333, 'f1-score': 0.7533333333333333, 'support': 900}}\n"
     ]
    }
   ],
   "source": [
    "print(classification_reports[-1])"
   ]
  },
  {
   "cell_type": "code",
   "execution_count": 20,
   "metadata": {
    "executionInfo": {
     "elapsed": 312,
     "status": "ok",
     "timestamp": 1651727396265,
     "user": {
      "displayName": "Divesh Upreti",
      "userId": "04263320102199524072"
     },
     "user_tz": 240
    },
    "id": "izx7loyWkKLR"
   },
   "outputs": [],
   "source": [
    "df = pd.DataFrame(classification_reports[-1]).transpose()"
   ]
  },
  {
   "cell_type": "code",
   "execution_count": 21,
   "metadata": {
    "executionInfo": {
     "elapsed": 376,
     "status": "ok",
     "timestamp": 1651727491183,
     "user": {
      "displayName": "Divesh Upreti",
      "userId": "04263320102199524072"
     },
     "user_tz": 240
    },
    "id": "RX6CH7b-nUwF"
   },
   "outputs": [],
   "source": [
    "df.to_csv('gpt2_report.csv', index= True)"
   ]
  },
  {
   "cell_type": "code",
   "execution_count": null,
   "metadata": {
    "id": "hB0SDUwWn_i6"
   },
   "outputs": [],
   "source": []
  }
 ],
 "metadata": {
  "accelerator": "GPU",
  "colab": {
   "authorship_tag": "ABX9TyNLXHyLe6CC5xNQ1M/DJ8Bp",
   "name": "experiments.ipynb",
   "provenance": []
  },
  "interpreter": {
   "hash": "4e130bba45e439c9ae33e0c77f8b149c7eb907d87d1a44e8f7565c385030b930"
  },
  "kernelspec": {
   "display_name": "study",
   "language": "python",
   "name": "study"
  },
  "language_info": {
   "codemirror_mode": {
    "name": "ipython",
    "version": 3
   },
   "file_extension": ".py",
   "mimetype": "text/x-python",
   "name": "python",
   "nbconvert_exporter": "python",
   "pygments_lexer": "ipython3",
   "version": "3.8.12"
  }
 },
 "nbformat": 4,
 "nbformat_minor": 1
}
