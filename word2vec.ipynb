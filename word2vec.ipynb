{
 "cells": [
  {
   "cell_type": "code",
   "execution_count": 51,
   "source": [
    "import numpy as np\n",
    "import pandas as pd\n",
    "from sklearn.preprocessing import OneHotEncoder\n",
    "from gensim.parsing.preprocessing import remove_stopwords\n",
    "from gensim.utils import simple_preprocess\n",
    "from gensim.parsing.porter import PorterStemmer\n",
    "from sklearn.model_selection import train_test_split\n",
    "from gensim.models import Word2Vec\n",
    "from sklearn.tree import DecisionTreeClassifier\n",
    "from sklearn.metrics import classification_report, accuracy_score, confusion_matrix,f1_score, precision_score, recall_score"
   ],
   "outputs": [],
   "metadata": {}
  },
  {
   "cell_type": "code",
   "execution_count": 3,
   "source": [
    "data = pd.read_csv(\"eclipse_bug_report_data.csv\")\n",
    "data = data.dropna()\n",
    "data['creation_date_date']=pd.to_datetime(data['creation_date'])\n",
    "data = data.sort_values('creation_date_date')\n",
    "data.head()"
   ],
   "outputs": [
    {
     "output_type": "execute_result",
     "data": {
      "text/plain": [
       "             bug_id creation_date component_name product_name  \\\n",
       "4602       JDT-4167    2001-10-10             UI          JDT   \n",
       "7876       JDT-4133    2001-10-10             UI          JDT   \n",
       "3539    PLATFORM-81    2001-10-10           Team     PLATFORM   \n",
       "1095  PLATFORM-2863    2001-10-10             UI     PLATFORM   \n",
       "8072       JDT-3299    2001-10-10           Core          JDT   \n",
       "\n",
       "                                      short_description  \\\n",
       "4602  Cannot delete then save a file of same name in...   \n",
       "7876  EC DCR: Add line numbers to Java editor (1GIV594)   \n",
       "3539      Cannot interrupt large file release (1GE6RUE)   \n",
       "1095  platform lazy loading thwarted by perspectives...   \n",
       "8072  Autobuild produces errors when renaming source...   \n",
       "\n",
       "                                       long_description    assignee_name  \\\n",
       "4602  This could be a core problem - not sure.\\nIf I...  kai-uwe_maetzel   \n",
       "7876  From Eclipse Corner:  Feature request - line n...  kai-uwe_maetzel   \n",
       "3539  Platform: JDK 108 W2K\\n\\nIf you import a large...       jeff_brown   \n",
       "1095  The lazy platform loading feature suffers from...    Kevin_Haaland   \n",
       "8072  1) split JUnit project into two source folders...     kent_johnson   \n",
       "\n",
       "        reporter_name resolution_category  resolution_code status_category  \\\n",
       "4602  Karice_McIntyre               fixed                1        resolved   \n",
       "7876  carolynmacleod4               fixed                1        resolved   \n",
       "3539      t.p.ellison               fixed                1        resolved   \n",
       "1095    john.arthorne               fixed                1        resolved   \n",
       "8072  kai-uwe_maetzel               fixed                1        resolved   \n",
       "\n",
       "      status_code update_date  quantity_of_votes  quantity_of_comments  \\\n",
       "4602            4  2002-04-30                  0                     5   \n",
       "7876            4  2002-05-30                  0                    12   \n",
       "3539            4  2002-04-10                  0                     3   \n",
       "1095            4  2002-05-30                  0                     3   \n",
       "8072            4  2002-02-04                  0                     6   \n",
       "\n",
       "     resolution_date  bug_fix_time severity_category  severity_code  \\\n",
       "4602      2002-04-30           202             major              4   \n",
       "7876      2002-05-09           211            normal              2   \n",
       "3539      2002-04-10           182            normal              2   \n",
       "1095      2002-05-30           232            normal              2   \n",
       "8072      2002-02-04           117            normal              2   \n",
       "\n",
       "     creation_date_date  \n",
       "4602         2001-10-10  \n",
       "7876         2001-10-10  \n",
       "3539         2001-10-10  \n",
       "1095         2001-10-10  \n",
       "8072         2001-10-10  "
      ],
      "text/html": [
       "<div>\n",
       "<style scoped>\n",
       "    .dataframe tbody tr th:only-of-type {\n",
       "        vertical-align: middle;\n",
       "    }\n",
       "\n",
       "    .dataframe tbody tr th {\n",
       "        vertical-align: top;\n",
       "    }\n",
       "\n",
       "    .dataframe thead th {\n",
       "        text-align: right;\n",
       "    }\n",
       "</style>\n",
       "<table border=\"1\" class=\"dataframe\">\n",
       "  <thead>\n",
       "    <tr style=\"text-align: right;\">\n",
       "      <th></th>\n",
       "      <th>bug_id</th>\n",
       "      <th>creation_date</th>\n",
       "      <th>component_name</th>\n",
       "      <th>product_name</th>\n",
       "      <th>short_description</th>\n",
       "      <th>long_description</th>\n",
       "      <th>assignee_name</th>\n",
       "      <th>reporter_name</th>\n",
       "      <th>resolution_category</th>\n",
       "      <th>resolution_code</th>\n",
       "      <th>status_category</th>\n",
       "      <th>status_code</th>\n",
       "      <th>update_date</th>\n",
       "      <th>quantity_of_votes</th>\n",
       "      <th>quantity_of_comments</th>\n",
       "      <th>resolution_date</th>\n",
       "      <th>bug_fix_time</th>\n",
       "      <th>severity_category</th>\n",
       "      <th>severity_code</th>\n",
       "      <th>creation_date_date</th>\n",
       "    </tr>\n",
       "  </thead>\n",
       "  <tbody>\n",
       "    <tr>\n",
       "      <th>4602</th>\n",
       "      <td>JDT-4167</td>\n",
       "      <td>2001-10-10</td>\n",
       "      <td>UI</td>\n",
       "      <td>JDT</td>\n",
       "      <td>Cannot delete then save a file of same name in...</td>\n",
       "      <td>This could be a core problem - not sure.\\nIf I...</td>\n",
       "      <td>kai-uwe_maetzel</td>\n",
       "      <td>Karice_McIntyre</td>\n",
       "      <td>fixed</td>\n",
       "      <td>1</td>\n",
       "      <td>resolved</td>\n",
       "      <td>4</td>\n",
       "      <td>2002-04-30</td>\n",
       "      <td>0</td>\n",
       "      <td>5</td>\n",
       "      <td>2002-04-30</td>\n",
       "      <td>202</td>\n",
       "      <td>major</td>\n",
       "      <td>4</td>\n",
       "      <td>2001-10-10</td>\n",
       "    </tr>\n",
       "    <tr>\n",
       "      <th>7876</th>\n",
       "      <td>JDT-4133</td>\n",
       "      <td>2001-10-10</td>\n",
       "      <td>UI</td>\n",
       "      <td>JDT</td>\n",
       "      <td>EC DCR: Add line numbers to Java editor (1GIV594)</td>\n",
       "      <td>From Eclipse Corner:  Feature request - line n...</td>\n",
       "      <td>kai-uwe_maetzel</td>\n",
       "      <td>carolynmacleod4</td>\n",
       "      <td>fixed</td>\n",
       "      <td>1</td>\n",
       "      <td>resolved</td>\n",
       "      <td>4</td>\n",
       "      <td>2002-05-30</td>\n",
       "      <td>0</td>\n",
       "      <td>12</td>\n",
       "      <td>2002-05-09</td>\n",
       "      <td>211</td>\n",
       "      <td>normal</td>\n",
       "      <td>2</td>\n",
       "      <td>2001-10-10</td>\n",
       "    </tr>\n",
       "    <tr>\n",
       "      <th>3539</th>\n",
       "      <td>PLATFORM-81</td>\n",
       "      <td>2001-10-10</td>\n",
       "      <td>Team</td>\n",
       "      <td>PLATFORM</td>\n",
       "      <td>Cannot interrupt large file release (1GE6RUE)</td>\n",
       "      <td>Platform: JDK 108 W2K\\n\\nIf you import a large...</td>\n",
       "      <td>jeff_brown</td>\n",
       "      <td>t.p.ellison</td>\n",
       "      <td>fixed</td>\n",
       "      <td>1</td>\n",
       "      <td>resolved</td>\n",
       "      <td>4</td>\n",
       "      <td>2002-04-10</td>\n",
       "      <td>0</td>\n",
       "      <td>3</td>\n",
       "      <td>2002-04-10</td>\n",
       "      <td>182</td>\n",
       "      <td>normal</td>\n",
       "      <td>2</td>\n",
       "      <td>2001-10-10</td>\n",
       "    </tr>\n",
       "    <tr>\n",
       "      <th>1095</th>\n",
       "      <td>PLATFORM-2863</td>\n",
       "      <td>2001-10-10</td>\n",
       "      <td>UI</td>\n",
       "      <td>PLATFORM</td>\n",
       "      <td>platform lazy loading thwarted by perspectives...</td>\n",
       "      <td>The lazy platform loading feature suffers from...</td>\n",
       "      <td>Kevin_Haaland</td>\n",
       "      <td>john.arthorne</td>\n",
       "      <td>fixed</td>\n",
       "      <td>1</td>\n",
       "      <td>resolved</td>\n",
       "      <td>4</td>\n",
       "      <td>2002-05-30</td>\n",
       "      <td>0</td>\n",
       "      <td>3</td>\n",
       "      <td>2002-05-30</td>\n",
       "      <td>232</td>\n",
       "      <td>normal</td>\n",
       "      <td>2</td>\n",
       "      <td>2001-10-10</td>\n",
       "    </tr>\n",
       "    <tr>\n",
       "      <th>8072</th>\n",
       "      <td>JDT-3299</td>\n",
       "      <td>2001-10-10</td>\n",
       "      <td>Core</td>\n",
       "      <td>JDT</td>\n",
       "      <td>Autobuild produces errors when renaming source...</td>\n",
       "      <td>1) split JUnit project into two source folders...</td>\n",
       "      <td>kent_johnson</td>\n",
       "      <td>kai-uwe_maetzel</td>\n",
       "      <td>fixed</td>\n",
       "      <td>1</td>\n",
       "      <td>resolved</td>\n",
       "      <td>4</td>\n",
       "      <td>2002-02-04</td>\n",
       "      <td>0</td>\n",
       "      <td>6</td>\n",
       "      <td>2002-02-04</td>\n",
       "      <td>117</td>\n",
       "      <td>normal</td>\n",
       "      <td>2</td>\n",
       "      <td>2001-10-10</td>\n",
       "    </tr>\n",
       "  </tbody>\n",
       "</table>\n",
       "</div>"
      ]
     },
     "metadata": {},
     "execution_count": 3
    }
   ],
   "metadata": {}
  },
  {
   "cell_type": "code",
   "execution_count": 4,
   "source": [
    "data_informed = data[['long_description', 'severity_category', 'creation_date_date']].copy()"
   ],
   "outputs": [],
   "metadata": {}
  },
  {
   "cell_type": "code",
   "execution_count": 5,
   "source": [
    "# Preprocess data\n",
    "porter_stemmer = PorterStemmer()\n",
    "data_informed['ld_tokenized'] = [simple_preprocess(line, deacc=True) for line in data_informed['long_description']]\n",
    "data_informed['ld_t_stemmed'] = [[porter_stemmer.stem(word) for word in tokens] for tokens in data_informed['ld_tokenized'] ]"
   ],
   "outputs": [],
   "metadata": {}
  },
  {
   "cell_type": "code",
   "execution_count": 6,
   "source": [
    "def map_sentiment(label):\n",
    "    if label == 'normal':\n",
    "        return 0\n",
    "    elif label == 'blocker':\n",
    "        return 1\n",
    "    elif label == 'trivial':\n",
    "        return 2\n",
    "    elif label == 'minor':\n",
    "        return 3\n",
    "    elif label == 'major':\n",
    "        return 4\n",
    "    elif label == 'critical':\n",
    "        return 5\n",
    "    else:\n",
    "        return 6"
   ],
   "outputs": [],
   "metadata": {}
  },
  {
   "cell_type": "code",
   "execution_count": 7,
   "source": [
    "data_informed['label'] = [ map_sentiment(x) for x in data_informed['severity_category']]"
   ],
   "outputs": [],
   "metadata": {}
  },
  {
   "cell_type": "code",
   "execution_count": 8,
   "source": [
    "data_informed['label'].head()"
   ],
   "outputs": [
    {
     "output_type": "execute_result",
     "data": {
      "text/plain": [
       "4602    4\n",
       "7876    0\n",
       "3539    0\n",
       "1095    0\n",
       "8072    0\n",
       "Name: label, dtype: int64"
      ]
     },
     "metadata": {},
     "execution_count": 8
    }
   ],
   "metadata": {}
  },
  {
   "cell_type": "code",
   "execution_count": 9,
   "source": [
    "encoder = OneHotEncoder(sparse=False)\n",
    "# transform data\n",
    "labels = encoder.fit_transform(np.array(data_informed['severity_category']).reshape(-1,1))"
   ],
   "outputs": [],
   "metadata": {}
  },
  {
   "cell_type": "code",
   "execution_count": 10,
   "source": [
    "train_x, test_x, train_y, test_y = train_test_split(data_informed[['ld_t_stemmed', 'creation_date_date']], data_informed[['label']], test_size=0.1, shuffle=False)"
   ],
   "outputs": [],
   "metadata": {}
  },
  {
   "cell_type": "code",
   "execution_count": 11,
   "source": [
    "train_x.head()"
   ],
   "outputs": [
    {
     "output_type": "execute_result",
     "data": {
      "text/plain": [
       "                                           ld_t_stemmed creation_date_date\n",
       "4602  [thi, could, be, core, problem, not, sure, if,...         2001-10-10\n",
       "7876  [from, eclips, corner, featur, request, line, ...         2001-10-10\n",
       "3539  [platform, jdk, if, you, import, larg, file, i...         2001-10-10\n",
       "1095  [the, lazi, platform, load, featur, suffer, fr...         2001-10-10\n",
       "8072  [split, junit, project, into, two, sourc, fold...         2001-10-10"
      ],
      "text/html": [
       "<div>\n",
       "<style scoped>\n",
       "    .dataframe tbody tr th:only-of-type {\n",
       "        vertical-align: middle;\n",
       "    }\n",
       "\n",
       "    .dataframe tbody tr th {\n",
       "        vertical-align: top;\n",
       "    }\n",
       "\n",
       "    .dataframe thead th {\n",
       "        text-align: right;\n",
       "    }\n",
       "</style>\n",
       "<table border=\"1\" class=\"dataframe\">\n",
       "  <thead>\n",
       "    <tr style=\"text-align: right;\">\n",
       "      <th></th>\n",
       "      <th>ld_t_stemmed</th>\n",
       "      <th>creation_date_date</th>\n",
       "    </tr>\n",
       "  </thead>\n",
       "  <tbody>\n",
       "    <tr>\n",
       "      <th>4602</th>\n",
       "      <td>[thi, could, be, core, problem, not, sure, if,...</td>\n",
       "      <td>2001-10-10</td>\n",
       "    </tr>\n",
       "    <tr>\n",
       "      <th>7876</th>\n",
       "      <td>[from, eclips, corner, featur, request, line, ...</td>\n",
       "      <td>2001-10-10</td>\n",
       "    </tr>\n",
       "    <tr>\n",
       "      <th>3539</th>\n",
       "      <td>[platform, jdk, if, you, import, larg, file, i...</td>\n",
       "      <td>2001-10-10</td>\n",
       "    </tr>\n",
       "    <tr>\n",
       "      <th>1095</th>\n",
       "      <td>[the, lazi, platform, load, featur, suffer, fr...</td>\n",
       "      <td>2001-10-10</td>\n",
       "    </tr>\n",
       "    <tr>\n",
       "      <th>8072</th>\n",
       "      <td>[split, junit, project, into, two, sourc, fold...</td>\n",
       "      <td>2001-10-10</td>\n",
       "    </tr>\n",
       "  </tbody>\n",
       "</table>\n",
       "</div>"
      ]
     },
     "metadata": {},
     "execution_count": 11
    }
   ],
   "metadata": {}
  },
  {
   "cell_type": "code",
   "execution_count": 12,
   "source": [
    "# Skip-gram model (sg = 1)\n",
    "size = 1000\n",
    "window = 3\n",
    "min_count = 1\n",
    "workers = 3\n",
    "sg = 1\n",
    "stemmed_tokens = pd.Series(data_informed['ld_t_stemmed']).values\n",
    "word2vec_model_file = 'word2vec_' + str(size) + '.model'\n",
    "# Train the Word2Vec Model\n",
    "w2v_model = Word2Vec(stemmed_tokens, min_count = min_count, vector_size = size, workers = workers, window = window, sg = sg)"
   ],
   "outputs": [],
   "metadata": {}
  },
  {
   "cell_type": "code",
   "execution_count": 13,
   "source": [
    "w2v_model.save(word2vec_model_file)"
   ],
   "outputs": [],
   "metadata": {}
  },
  {
   "cell_type": "code",
   "execution_count": 14,
   "source": [
    "# Load the model from the model file\n",
    "sg_w2v_model = Word2Vec.load(word2vec_model_file)"
   ],
   "outputs": [],
   "metadata": {}
  },
  {
   "cell_type": "code",
   "execution_count": 15,
   "source": [
    "# Store the vectors for train data in following file\n",
    "word2vec_filename = 'train_review_word2vec.csv'\n",
    "with open(word2vec_filename, 'w+') as word2vec_file:\n",
    "    for index, row in train_x.iterrows():\n",
    "        model_vector = (np.mean([sg_w2v_model.wv[token] for token in row['ld_t_stemmed']], axis=0)).tolist()\n",
    "        if index == 0:\n",
    "            header = \",\".join(str(ele) for ele in range(1000))\n",
    "            word2vec_file.write(header)\n",
    "            word2vec_file.write(\"\\n\")\n",
    "        # Check if the line exists else it is vector of zeros\n",
    "        if type(model_vector) is list:  \n",
    "            line1 = \",\".join( [str(vector_element) for vector_element in model_vector] )\n",
    "        else:\n",
    "            line1 = \",\".join([str(0) for i in range(1000)])\n",
    "        word2vec_file.write(line1)\n",
    "        word2vec_file.write('\\n')"
   ],
   "outputs": [
    {
     "output_type": "stream",
     "name": "stderr",
     "text": [
      "/home/divesh/Study/CS795/bug_priority/myenv/lib/python3.8/site-packages/numpy/core/fromnumeric.py:3474: RuntimeWarning: Mean of empty slice.\n",
      "  return _methods._mean(a, axis=axis, dtype=dtype,\n",
      "/home/divesh/Study/CS795/bug_priority/myenv/lib/python3.8/site-packages/numpy/core/_methods.py:189: RuntimeWarning: invalid value encountered in double_scalars\n",
      "  ret = ret.dtype.type(ret / rcount)\n"
     ]
    }
   ],
   "metadata": {}
  },
  {
   "cell_type": "code",
   "execution_count": 16,
   "source": [
    "# Load from the filename\n",
    "word2vec_df = pd.read_csv(word2vec_filename)\n",
    "#Initialize the model\n",
    "clf_decision_word2vec = DecisionTreeClassifier()\n",
    "\n",
    "clf_decision_word2vec.fit(word2vec_df, train_y)"
   ],
   "outputs": [
    {
     "output_type": "execute_result",
     "data": {
      "text/plain": [
       "DecisionTreeClassifier()"
      ]
     },
     "metadata": {},
     "execution_count": 16
    }
   ],
   "metadata": {}
  },
  {
   "cell_type": "code",
   "execution_count": 17,
   "source": [
    "test_features_word2vec = []\n",
    "for index, row in test_x.iterrows():\n",
    "    model_vector = np.mean([sg_w2v_model.wv[token] for token in row['ld_t_stemmed']], axis=0)\n",
    "    if type(model_vector) is list:\n",
    "        test_features_word2vec.append(model_vector)\n",
    "    else:\n",
    "        test_features_word2vec.append(np.array([0 for i in range(1000)]))\n",
    "test_predictions_word2vec = clf_decision_word2vec.predict(test_features_word2vec)\n",
    "print(accuracy_score(test_y['label'],test_predictions_word2vec))\n"
   ],
   "outputs": [
    {
     "output_type": "stream",
     "name": "stderr",
     "text": [
      "/home/divesh/Study/CS795/bug_priority/myenv/lib/python3.8/site-packages/numpy/core/fromnumeric.py:3474: RuntimeWarning: Mean of empty slice.\n",
      "  return _methods._mean(a, axis=axis, dtype=dtype,\n",
      "/home/divesh/Study/CS795/bug_priority/myenv/lib/python3.8/site-packages/numpy/core/_methods.py:189: RuntimeWarning: invalid value encountered in double_scalars\n",
      "  ret = ret.dtype.type(ret / rcount)\n"
     ]
    },
    {
     "output_type": "stream",
     "name": "stdout",
     "text": [
      "0.8494288681204569\n"
     ]
    },
    {
     "output_type": "stream",
     "name": "stderr",
     "text": [
      "/home/divesh/Study/CS795/bug_priority/myenv/lib/python3.8/site-packages/sklearn/base.py:450: UserWarning: X does not have valid feature names, but DecisionTreeClassifier was fitted with feature names\n",
      "  warnings.warn(\n"
     ]
    }
   ],
   "metadata": {}
  },
  {
   "cell_type": "code",
   "execution_count": 41,
   "source": [
    "confusionmat = (confusion_matrix(test_y['label'],test_predictions_word2vec))\n",
    "confusionmat.diagonal()/confusionmat.sum(axis=1)\n",
    "\n",
    "print(confusionmat)"
   ],
   "outputs": [
    {
     "output_type": "stream",
     "name": "stdout",
     "text": [
      "[[818   0   0   0   0   0]\n",
      " [ 24   0   0   0   0   0]\n",
      " [ 14   0   0   0   0   0]\n",
      " [ 26   0   0   0   0   0]\n",
      " [ 54   0   0   0   0   0]\n",
      " [ 27   0   0   0   0   0]]\n"
     ]
    }
   ],
   "metadata": {}
  },
  {
   "cell_type": "code",
   "execution_count": 49,
   "source": [
    "print(\n",
    "    f1_score(test_y['label'],test_predictions_word2vec, average='macro'),\n",
    "    f1_score(test_y['label'],test_predictions_word2vec, average='micro'),\n",
    "    f1_score(test_y['label'],test_predictions_word2vec, average='weighted')\n",
    "    )\n",
    "\n",
    "print(\n",
    "    accuracy_score(test_y['label'],test_predictions_word2vec),\n",
    "    accuracy_score(test_y['label'],test_predictions_word2vec),\n",
    "    accuracy_score(test_y['label'],test_predictions_word2vec)\n",
    "    )\n",
    "\n"
   ],
   "outputs": [
    {
     "output_type": "stream",
     "name": "stdout",
     "text": [
      "0.15309751076174435 0.8494288681204569 0.7802726716704478\n",
      "0.8494288681204569 0.8494288681204569 0.8494288681204569\n"
     ]
    }
   ],
   "metadata": {}
  },
  {
   "cell_type": "code",
   "execution_count": 54,
   "source": [
    "print(precision_score(test_y['label'], test_predictions_word2vec, average='weighted'))\n",
    "\n",
    "# test_predictions_word2vec.to_csv('predictions.csv')\n",
    "np.savetxt(\"predictions.csv\", test_y, delimiter=\",\")\n",
    "\n"
   ],
   "outputs": [
    {
     "output_type": "stream",
     "name": "stdout",
     "text": [
      "0.7215294019964006\n"
     ]
    },
    {
     "output_type": "stream",
     "name": "stderr",
     "text": [
      "/home/divesh/Study/CS795/bug_priority/myenv/lib/python3.8/site-packages/sklearn/metrics/_classification.py:1318: UndefinedMetricWarning: Precision is ill-defined and being set to 0.0 in labels with no predicted samples. Use `zero_division` parameter to control this behavior.\n",
      "  _warn_prf(average, modifier, msg_start, len(result))\n"
     ]
    }
   ],
   "metadata": {}
  },
  {
   "cell_type": "code",
   "execution_count": null,
   "source": [],
   "outputs": [],
   "metadata": {}
  }
 ],
 "metadata": {
  "orig_nbformat": 4,
  "language_info": {
   "name": "python",
   "version": "3.8.10",
   "mimetype": "text/x-python",
   "codemirror_mode": {
    "name": "ipython",
    "version": 3
   },
   "pygments_lexer": "ipython3",
   "nbconvert_exporter": "python",
   "file_extension": ".py"
  },
  "kernelspec": {
   "name": "python3",
   "display_name": "Python 3.8.10 64-bit ('myenv': venv)"
  },
  "interpreter": {
   "hash": "e54c2e86533c7c717440dbe71601ed1fb7c73ec5e597df72e5f685a80ec7b4ae"
  }
 },
 "nbformat": 4,
 "nbformat_minor": 2
}